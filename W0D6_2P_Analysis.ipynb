{
  "nbformat": 4,
  "nbformat_minor": 0,
  "metadata": {
    "colab": {
      "name": "W0D6_2P_Analysis.ipynb",
      "provenance": [],
      "authorship_tag": "ABX9TyMj7ZXgKRyX+q9aKG3iq6BB",
      "include_colab_link": true
    },
    "kernelspec": {
      "name": "python3",
      "display_name": "Python 3"
    },
    "language_info": {
      "name": "python"
    }
  },
  "cells": [
    {
      "cell_type": "markdown",
      "metadata": {
        "id": "view-in-github",
        "colab_type": "text"
      },
      "source": [
        "<a href=\"https://colab.research.google.com/github/pavolbauer/Kalman-and-Bayesian-Filters-in-Python/blob/master/W0D6_2P_Analysis.ipynb\" target=\"_parent\"><img src=\"https://colab.research.google.com/assets/colab-badge.svg\" alt=\"Open In Colab\"/></a>"
      ]
    },
    {
      "cell_type": "code",
      "metadata": {
        "id": "zQ_rQ0qSrYbO"
      },
      "source": [
        "import numpy as np"
      ],
      "execution_count": null,
      "outputs": []
    },
    {
      "cell_type": "markdown",
      "metadata": {
        "id": "9g2Bd2Rqro2A"
      },
      "source": [
        "Welcome to the 2P analysis lab!\n"
      ]
    }
  ]
}